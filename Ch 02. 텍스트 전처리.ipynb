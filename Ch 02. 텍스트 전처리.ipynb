{
  "cells": [
    {
      "cell_type": "markdown",
      "metadata": {
        "id": "view-in-github",
        "colab_type": "text"
      },
      "source": [
        "<a href=\"https://colab.research.google.com/github/waltechel/202209-novice-nlp-with-python/blob/master/Ch%2002.%20%ED%85%8D%EC%8A%A4%ED%8A%B8%20%EC%A0%84%EC%B2%98%EB%A6%AC.ipynb\" target=\"_parent\"><img src=\"https://colab.research.google.com/assets/colab-badge.svg\" alt=\"Open In Colab\"/></a>"
      ]
    },
    {
      "cell_type": "markdown",
      "metadata": {
        "id": "ZzTlTge0gAsJ"
      },
      "source": [
        "# Chapter 2. 텍스트 전처리"
      ]
    },
    {
      "cell_type": "markdown",
      "source": [
        "## 2.1 텍스트 전처리의 개념\n",
        "\n",
        "### 2.1.1 왜 전처리가 필요한가?\n",
        "\n",
        "텍스트에는 불필요한 정보도 많이 있으며, 작업 목적에 맞지 않는 정보를 사전에 정리하는 것이 효율적이기 때문이다.\n",
        "\n",
        "자연어를 벡터화하는 것을 임베딩이라고 하는데, 임베딩을 더 잘 하기 위해서도 텍스트 전처리가 필요하다."
      ],
      "metadata": {
        "id": "cE2--fIY0u9P"
      }
    },
    {
      "cell_type": "markdown",
      "source": [
        "### 2.1.2 전처리의 단계\n",
        "\n",
        "1. 정제 : 노이즈나 불용어를 제거한다.\n",
        "2. 토큰화 : 텍스트를 원하는 단위로 분할한다.\n",
        "3. 정규화 : 어간을 추출하거나 표제어를 추출한다.\n",
        "4. 품사 태깅 : 정규화된 목록에 품사를 태깅하여 메타 정보를 등록한다.\n"
      ],
      "metadata": {
        "id": "C7fMhHYv00jy"
      }
    },
    {
      "cell_type": "markdown",
      "metadata": {
        "id": "7o8hdLO2gAsT"
      },
      "source": [
        "## 2. 토큰화(Tokenization)"
      ]
    },
    {
      "cell_type": "markdown",
      "metadata": {
        "id": "RtUHFi65gAsV"
      },
      "source": [
        "#### NLTK (https://www.nltk.org/) 설치"
      ]
    },
    {
      "cell_type": "code",
      "execution_count": null,
      "metadata": {
        "id": "rpwoFgEMgAsX",
        "outputId": "e448f530-6446-47d3-99ac-7adbb97a8e40",
        "colab": {
          "base_uri": "https://localhost:8080/"
        }
      },
      "outputs": [
        {
          "output_type": "stream",
          "name": "stderr",
          "text": [
            "[nltk_data] Downloading package punkt to /root/nltk_data...\n",
            "[nltk_data]   Package punkt is already up-to-date!\n",
            "[nltk_data] Downloading package webtext to /root/nltk_data...\n",
            "[nltk_data]   Package webtext is already up-to-date!\n",
            "[nltk_data] Downloading package wordnet to /root/nltk_data...\n",
            "[nltk_data]   Package wordnet is already up-to-date!\n",
            "[nltk_data] Downloading package stopwords to /root/nltk_data...\n",
            "[nltk_data]   Package stopwords is already up-to-date!\n",
            "[nltk_data] Downloading package averaged_perceptron_tagger to\n",
            "[nltk_data]     /root/nltk_data...\n",
            "[nltk_data]   Package averaged_perceptron_tagger is already up-to-\n",
            "[nltk_data]       date!\n",
            "[nltk_data] Downloading package omw-1.4 to /root/nltk_data...\n",
            "[nltk_data]   Package omw-1.4 is already up-to-date!\n"
          ]
        },
        {
          "output_type": "execute_result",
          "data": {
            "text/plain": [
              "True"
            ]
          },
          "metadata": {},
          "execution_count": 5
        }
      ],
      "source": [
        "# 필요한 nltk library download\n",
        "import nltk\n",
        "nltk.download('punkt')\n",
        "nltk.download('webtext')\n",
        "nltk.download('wordnet')\n",
        "nltk.download('stopwords')\n",
        "nltk.download('averaged_perceptron_tagger')\n",
        "nltk.download('omw-1.4')"
      ]
    },
    {
      "cell_type": "markdown",
      "metadata": {
        "id": "jR8nbQ2CgAsc"
      },
      "source": [
        "### 2.1 문장 토큰화(sentence tokenize)"
      ]
    },
    {
      "cell_type": "code",
      "execution_count": null,
      "metadata": {
        "id": "x3r4IT2-gAsd"
      },
      "outputs": [],
      "source": [
        "para = \"Hello everyone. It's good to see you. Let's start our text mining class!\""
      ]
    },
    {
      "cell_type": "code",
      "execution_count": null,
      "metadata": {
        "id": "b6kJJfBigAsf",
        "outputId": "52629137-3be9-45eb-b3fb-416ce9681f88",
        "colab": {
          "base_uri": "https://localhost:8080/"
        }
      },
      "outputs": [
        {
          "output_type": "stream",
          "name": "stdout",
          "text": [
            "['Hello everyone.', \"It's good to see you.\", \"Let's start our text mining class!\"]\n"
          ]
        }
      ],
      "source": [
        "from nltk.tokenize import sent_tokenize\n",
        "\n",
        "#주어진 text를 sentence 단위로 tokenize함. 주로 . ! ? 등을 이용\n",
        "print(sent_tokenize(para)) "
      ]
    },
    {
      "cell_type": "code",
      "execution_count": null,
      "metadata": {
        "id": "tI5xccM-gAsh",
        "outputId": "d7ba5832-a628-45ac-a4ee-f985ee7cd079",
        "colab": {
          "base_uri": "https://localhost:8080/"
        }
      },
      "outputs": [
        {
          "output_type": "stream",
          "name": "stdout",
          "text": [
            "[\"Je t'ai demandé si tu m'aimais bien, Tu m'a répondu non.\", \"Je t'ai demandé si j'étais jolie, Tu m'a répondu non.\", \"Je t'ai demandé si j'étai dans ton coeur, Tu m'a répondu non.\"]\n"
          ]
        }
      ],
      "source": [
        "paragraph_french = \"\"\"Je t'ai demandé si tu m'aimais bien, Tu m'a répondu non. \n",
        "Je t'ai demandé si j'étais jolie, Tu m'a répondu non. \n",
        "Je t'ai demandé si j'étai dans ton coeur, Tu m'a répondu non.\"\"\"\n",
        "\n",
        "import nltk.data\n",
        "tokenizer = nltk.data.load('tokenizers/punkt/french.pickle')\n",
        "print(tokenizer.tokenize(paragraph_french))"
      ]
    },
    {
      "cell_type": "code",
      "execution_count": null,
      "metadata": {
        "id": "sb35KTR-gAsj"
      },
      "outputs": [],
      "source": [
        "para_kor = \"안녕하세요, 여러분. 만나서 반갑습니다. 이제 텍스트마이닝 클래스를 시작해봅시다!\""
      ]
    },
    {
      "cell_type": "code",
      "execution_count": null,
      "metadata": {
        "id": "RnwE3NyJgAsl",
        "outputId": "2f9191c4-9abe-4a80-961a-da4c94b25d31",
        "colab": {
          "base_uri": "https://localhost:8080/"
        }
      },
      "outputs": [
        {
          "output_type": "stream",
          "name": "stdout",
          "text": [
            "['안녕하세요, 여러분.', '만나서 반갑습니다.', '이제 텍스트마이닝 클래스를 시작해봅시다!']\n"
          ]
        }
      ],
      "source": [
        "print(sent_tokenize(para_kor)) #한국어에 대해서도 sentence tokenizer는 잘 동작함"
      ]
    },
    {
      "cell_type": "markdown",
      "metadata": {
        "id": "c07WP3uEgAsm"
      },
      "source": [
        "### 2.2 단어 토큰화 (word tokenize)"
      ]
    },
    {
      "cell_type": "markdown",
      "source": [
        "- 영어에 대해서는 마침표나 느낌표가 토큰으로 갈라지는 것을 확인할 수 있다."
      ],
      "metadata": {
        "id": "KN2xSFXmg8N8"
      }
    },
    {
      "cell_type": "code",
      "execution_count": null,
      "metadata": {
        "id": "F6R8X4VegAso",
        "outputId": "93187a84-9f1b-46c4-bfb6-b109d85c8a45",
        "colab": {
          "base_uri": "https://localhost:8080/"
        }
      },
      "outputs": [
        {
          "metadata": {
            "tags": null
          },
          "name": "stdout",
          "output_type": "stream",
          "text": [
            "['Hello', 'everyone', '.', 'It', \"'s\", 'good', 'to', 'see', 'you', '.', 'Let', \"'s\", 'start', 'our', 'text', 'mining', 'class', '!']\n"
          ]
        }
      ],
      "source": [
        "from nltk.tokenize import word_tokenize\n",
        "\n",
        "#주어진 text를 word 단위로 tokenize함\n",
        "print(word_tokenize(para)) "
      ]
    },
    {
      "cell_type": "markdown",
      "source": [
        "- word_tokenize와 달리 WordPunctTokenizer 는 어퍼스트로피도 분리하는 것을 확인할 수 있다. "
      ],
      "metadata": {
        "id": "Ma4w81Logpg6"
      }
    },
    {
      "cell_type": "code",
      "execution_count": null,
      "metadata": {
        "id": "_fhAeVQPgAsp",
        "outputId": "f8153b77-334c-450e-a4ba-9cdd3d4d7012",
        "colab": {
          "base_uri": "https://localhost:8080/"
        }
      },
      "outputs": [
        {
          "output_type": "stream",
          "name": "stdout",
          "text": [
            "['Hello', 'everyone', '.', 'It', \"'\", 's', 'good', 'to', 'see', 'you', '.', 'Let', \"'\", 's', 'start', 'our', 'text', 'mining', 'class', '!']\n"
          ]
        }
      ],
      "source": [
        "from nltk.tokenize import WordPunctTokenizer  \n",
        "print(WordPunctTokenizer().tokenize(para))"
      ]
    },
    {
      "cell_type": "markdown",
      "source": [
        "- 한국어는 토큰화를 어절 단위로밖에 수행하지 못하는 것을 알 수 있다.\n",
        "  - 한국어의 경우 형태소 단위까지 분절이 가능한데 한국어에서는 KoNLPy를 활용해서 분석해본다."
      ],
      "metadata": {
        "id": "R3yozopwhOXL"
      }
    },
    {
      "cell_type": "code",
      "execution_count": null,
      "metadata": {
        "id": "8NxvVdhdgAsq",
        "outputId": "24318c84-e4f3-4c6c-f23c-c1b0f5e74366",
        "colab": {
          "base_uri": "https://localhost:8080/"
        }
      },
      "outputs": [
        {
          "output_type": "stream",
          "name": "stdout",
          "text": [
            "['안녕하세요', ',', '여러분', '.', '만나서', '반갑습니다', '.', '이제', '텍스트마이닝', '클래스를', '시작해봅시다', '!']\n"
          ]
        }
      ],
      "source": [
        "print(word_tokenize(para_kor))"
      ]
    },
    {
      "cell_type": "markdown",
      "metadata": {
        "id": "RviMz_eEgAsr"
      },
      "source": [
        "### 2.3 정규표현식을 이용한 토큰화"
      ]
    },
    {
      "cell_type": "markdown",
      "source": [
        "- `are` 에서 a를 가져오고, `boy`에서 b를 가져왔다."
      ],
      "metadata": {
        "id": "dF0qwamRhipY"
      }
    },
    {
      "cell_type": "code",
      "execution_count": null,
      "metadata": {
        "id": "vKpZZIySgAss",
        "outputId": "41f1acf2-3788-4cc0-b54b-8515e8d442e6",
        "colab": {
          "base_uri": "https://localhost:8080/"
        }
      },
      "outputs": [
        {
          "output_type": "execute_result",
          "data": {
            "text/plain": [
              "['a', 'b']"
            ]
          },
          "metadata": {},
          "execution_count": 18
        }
      ],
      "source": [
        "import re\n",
        "re.findall(\"[abc]\", \"How are you, boy?\")"
      ]
    },
    {
      "cell_type": "markdown",
      "source": [
        "- 숫자에 해당하는 것을 모두 가져왔다."
      ],
      "metadata": {
        "id": "fSk6JRxhhtIW"
      }
    },
    {
      "cell_type": "code",
      "execution_count": null,
      "metadata": {
        "id": "foJnSl2ugAst",
        "outputId": "98b13e0d-613c-4d86-aae0-9beb7859c79e",
        "colab": {
          "base_uri": "https://localhost:8080/"
        }
      },
      "outputs": [
        {
          "output_type": "execute_result",
          "data": {
            "text/plain": [
              "['3', '7', '5', '9']"
            ]
          },
          "metadata": {},
          "execution_count": 19
        }
      ],
      "source": [
        "re.findall(\"[0123456789]\", \"3a7b5c9d\")"
      ]
    },
    {
      "cell_type": "markdown",
      "source": [
        "- 알파벳과 숫자에 _언더바 까지 모두 검색하고 싶다면 `[a-zA-Z0-9_]` 로 표기하면 된다.\n",
        "  - 약어로는 `[\\w]` 를 활용한다."
      ],
      "metadata": {
        "id": "aXbq_fp5h17O"
      }
    },
    {
      "cell_type": "code",
      "execution_count": null,
      "metadata": {
        "id": "DG0PXL89gAsu",
        "outputId": "0ac6c882-5efd-4c80-f857-ab2f030771f2",
        "colab": {
          "base_uri": "https://localhost:8080/"
        }
      },
      "outputs": [
        {
          "output_type": "execute_result",
          "data": {
            "text/plain": [
              "['3', 'a', '7', 'b', '_', '5', 'c', '9', 'd']"
            ]
          },
          "metadata": {},
          "execution_count": 22
        }
      ],
      "source": [
        "re.findall(\"[\\w]\", \"3a 7b_ '.^&5c9d\")"
      ]
    },
    {
      "cell_type": "markdown",
      "source": [
        "- 한 번 이상의 반복을 나타내고자 할 때는 `+`를 사용할 수 있다."
      ],
      "metadata": {
        "id": "pWyzpERfiHWv"
      }
    },
    {
      "cell_type": "code",
      "execution_count": null,
      "metadata": {
        "id": "mOuLH0iggAsv",
        "outputId": "ab966036-59db-4008-9739-c475ae15564a",
        "colab": {
          "base_uri": "https://localhost:8080/"
        }
      },
      "outputs": [
        {
          "output_type": "execute_result",
          "data": {
            "text/plain": [
              "['_', '__', '___']"
            ]
          },
          "metadata": {},
          "execution_count": 23
        }
      ],
      "source": [
        "re.findall(\"[_]+\", \"a_b, c__d, e___f\")"
      ]
    },
    {
      "cell_type": "markdown",
      "source": [
        "- 센스 있게 문장 부호와 스페이스를 제거하는 방법"
      ],
      "metadata": {
        "id": "ucqPFJNciYHm"
      }
    },
    {
      "cell_type": "code",
      "execution_count": null,
      "metadata": {
        "id": "0pQwZNN5gAsv",
        "outputId": "d8ace1dd-63d0-4df5-dbf5-03f2d8b39cf8",
        "colab": {
          "base_uri": "https://localhost:8080/"
        }
      },
      "outputs": [
        {
          "output_type": "execute_result",
          "data": {
            "text/plain": [
              "['How', 'are', 'you', 'boy']"
            ]
          },
          "metadata": {},
          "execution_count": 25
        }
      ],
      "source": [
        "re.findall(\"[\\w]+\", \"How are you, boy?\")"
      ]
    },
    {
      "cell_type": "markdown",
      "source": [
        "- `o`의 개수가 2개부터 4개까지 찾아보는 방법\n",
        "  - 맨 마지막의 경우 4개, 3개로 분리된 것을 확인할 수 있다."
      ],
      "metadata": {
        "id": "yv8WMZtPidZL"
      }
    },
    {
      "cell_type": "code",
      "execution_count": null,
      "metadata": {
        "id": "Ro8g1UstgAsw",
        "outputId": "fb183078-e020-4c9f-af76-c007cd3154a9",
        "colab": {
          "base_uri": "https://localhost:8080/"
        }
      },
      "outputs": [
        {
          "output_type": "execute_result",
          "data": {
            "text/plain": [
              "['oo', 'oooo', 'oooo', 'ooo']"
            ]
          },
          "metadata": {},
          "execution_count": 27
        }
      ],
      "source": [
        "re.findall(\"[o]{2,4}\", \"oh, hoow are yoooou, boooooooy?\")"
      ]
    },
    {
      "cell_type": "code",
      "execution_count": null,
      "metadata": {
        "id": "_QjUncENgAsx",
        "outputId": "67a7250b-b0d0-4af1-8ae0-75b55d423682",
        "colab": {
          "base_uri": "https://localhost:8080/"
        }
      },
      "outputs": [
        {
          "output_type": "stream",
          "name": "stdout",
          "text": [
            "['Sorry', 'I', \"can't\", 'go', 'there']\n"
          ]
        }
      ],
      "source": [
        "from nltk.tokenize import RegexpTokenizer\n",
        "tokenizer = RegexpTokenizer(\"[\\w']+\") #regular expression(정규식)을 이용한 tokenizer\n",
        "#단어단위로 tokenize \\w:문자나 숫자를 의미 즉 문자나 숫자 혹은 '가 반복되는 것을 찾아냄\n",
        "print(tokenizer.tokenize(\"Sorry, I can't go there.\"))\n",
        "# can't를 하나의 단어로 인식"
      ]
    },
    {
      "cell_type": "code",
      "execution_count": null,
      "metadata": {
        "id": "Og-dVerHgAsy",
        "outputId": "931640f3-e05d-440e-d80a-b54b578423aa",
        "colab": {
          "base_uri": "https://localhost:8080/"
        }
      },
      "outputs": [
        {
          "output_type": "stream",
          "name": "stdout",
          "text": [
            "['Sorry', 'I', 'can', 't', 'go', 'there']\n"
          ]
        }
      ],
      "source": [
        "tokenizer = RegexpTokenizer(\"[\\w]+\") \n",
        "print(tokenizer.tokenize(\"Sorry, I can't go there.\"))"
      ]
    },
    {
      "cell_type": "markdown",
      "source": [
        "- 모두 소문자로 바꾸고 ' 를 포함해 세 글자 이상의 단어들만 골라내고 싶을 때는 다음과 같이 한다."
      ],
      "metadata": {
        "id": "sUm62qlPuP8-"
      }
    },
    {
      "cell_type": "code",
      "execution_count": null,
      "metadata": {
        "id": "Yv21kPXFgAsz",
        "outputId": "96ca1c93-fa6f-4350-cc86-e38f692320af",
        "colab": {
          "base_uri": "https://localhost:8080/"
        }
      },
      "outputs": [
        {
          "output_type": "stream",
          "name": "stdout",
          "text": [
            "['sorry', \"can't\", 'there']\n"
          ]
        }
      ],
      "source": [
        "text1 = \"Sorry, I can't go there.\"\n",
        "tokenizer = RegexpTokenizer(\"[\\w']{3,}\") \n",
        "print(tokenizer.tokenize(text1.lower()))"
      ]
    },
    {
      "cell_type": "markdown",
      "metadata": {
        "id": "zA_hpulrgAs0"
      },
      "source": [
        "### 2.4 노이즈와 불용어 제거\n",
        "\n",
        "- 노이즈는 특수문자 혹은 오타를 말한다.\n",
        "- 불용어는 실제 사용은 되는 단어들이지만 분석에 별다른 영향을 미치지 않는 단어들을 말한다."
      ]
    },
    {
      "cell_type": "code",
      "execution_count": null,
      "metadata": {
        "id": "0dhXM7GRgAs0",
        "outputId": "f7775c6b-99d1-4be6-ce4a-d258142e9e4a",
        "colab": {
          "base_uri": "https://localhost:8080/"
        }
      },
      "outputs": [
        {
          "output_type": "stream",
          "name": "stdout",
          "text": [
            "['sorry', 'go', 'movie', 'yesterday']\n"
          ]
        }
      ],
      "source": [
        "from nltk.corpus import stopwords #일반적으로 분석대상이 아닌 단어들\n",
        "english_stops = set(stopwords.words('english')) #반복이 되지 않도록 set으로 변환\n",
        "\n",
        "text1 = \"Sorry, I couldn't go to movie yesterday.\"\n",
        "\n",
        "tokenizer = RegexpTokenizer(\"[\\w']+\")\n",
        "tokens = tokenizer.tokenize(text1.lower()) #word_tokenize로 토큰화\n",
        "\n",
        "result = [word for word in tokens if word not in english_stops] #stopwords를 제외한 단어들만으로 list를 생성\n",
        "print(result)"
      ]
    },
    {
      "cell_type": "markdown",
      "source": [
        "- 영어 불용어는 다음과 같다."
      ],
      "metadata": {
        "id": "LMwCQntKvnZy"
      }
    },
    {
      "cell_type": "code",
      "execution_count": null,
      "metadata": {
        "id": "5JzmoSTrgAs1",
        "outputId": "8855ad7d-b219-4bf6-b094-0c81ce64c551",
        "colab": {
          "base_uri": "https://localhost:8080/"
        }
      },
      "outputs": [
        {
          "output_type": "stream",
          "name": "stdout",
          "text": [
            "{'own', 'me', 'your', 'while', 'under', \"hasn't\", \"shan't\", 'at', 'his', 'ours', 'as', 'down', 'most', 'weren', 're', 'did', 'when', 'but', \"isn't\", \"wasn't\", 'which', 'my', 'is', 'didn', 'ma', 'i', 'shouldn', 'if', 'those', 'it', 'has', 'both', 'what', 'too', 'm', \"needn't\", \"wouldn't\", 'an', 'further', 'haven', 'or', 'some', \"didn't\", \"it's\", 'hasn', \"she's\", 'aren', 'do', 'their', 'there', 'how', 'nor', 'wasn', 'again', 'until', \"you'll\", 'of', 't', 'd', 'having', 'that', 'such', 'doesn', 'because', 'don', 'with', \"hadn't\", \"shouldn't\", 'had', 'shan', 'won', \"couldn't\", \"aren't\", 'themselves', 'whom', 'in', 've', 'same', 'being', 'up', 'isn', 'have', 'not', 'against', 'once', 'we', 'herself', 'between', 'mustn', 'where', \"haven't\", 'hers', \"won't\", 'no', \"you've\", 'over', 'now', \"mustn't\", 'yourselves', 'this', 'after', 'does', 'during', 'yourself', \"mightn't\", 'out', 'any', 'hadn', 'him', 'off', 'and', 'to', 'wouldn', 'here', \"doesn't\", 'these', 'above', 'been', 'you', \"you're\", \"weren't\", \"that'll\", \"should've\", 'needn', 'few', 'on', 'each', 'our', 'he', 'more', 'will', 'himself', 'about', 'can', \"don't\", 'y', 'into', 'other', 'just', 'from', 's', 'mightn', 'they', 'below', 'through', 'a', 'was', 'its', 'were', 'ourselves', 'then', 'couldn', 'are', 'theirs', 'who', 'yours', 'should', 'the', 'only', 'for', \"you'd\", 'them', 'o', 'her', 'before', 'all', 'll', 'by', 'very', 'am', 'so', 'myself', 'be', 'ain', 'why', 'itself', 'she', 'doing', 'than'}\n"
          ]
        }
      ],
      "source": [
        "print(english_stops) #nltk가 제공하는 영어 stopword를 확인"
      ]
    },
    {
      "cell_type": "markdown",
      "source": [
        "- 자신만의 불용어를 만들고 싶으면 다음과 같이 진행한다."
      ],
      "metadata": {
        "id": "8pY56ZoyvsI_"
      }
    },
    {
      "cell_type": "code",
      "execution_count": null,
      "metadata": {
        "id": "jV_Rwz9SgAs1",
        "outputId": "2e8cf9e9-72f5-4c8d-c329-277898be1c9f",
        "colab": {
          "base_uri": "https://localhost:8080/"
        }
      },
      "outputs": [
        {
          "output_type": "stream",
          "name": "stdout",
          "text": [
            "['sorry', \"couldn't\", 'movie', 'yesterday']\n"
          ]
        }
      ],
      "source": [
        "#자신만의 stopwords를 만들고 이용\n",
        "#한글처리에서도 유용하게 사용할 수 있음\n",
        "my_stopword = ['i', 'go', 'to'] #나만의 stopword를 리스트로 정의\n",
        "result = [word for word in tokens if word not in my_stopword] \n",
        "print(result)"
      ]
    },
    {
      "cell_type": "markdown",
      "metadata": {
        "id": "ivpHuJaBgAs2"
      },
      "source": [
        "# 2. 정규화(Normalization)\n",
        "\n",
        "- 정규화    \n",
        "  정규화는 같은 의미를 가진 동일한 단어이면서 다른 형태로 쓰여진 단어들을 통일해 표준 단어로 만드는 작업을 말한다.    \n",
        "  어휘의 크기를 줄이는 기법인 정규화는 비슷한 토큰들을 하나의 형태로 결합시키는 것으로, 결국 어휘의 종류가 줄어들게 되어 과대적합이 일어날 가능성 또한 줄여준다.\n",
        "  - 정규화는 P로 분류하는 대상을 확대함으로써 재현율을 높여주지만 정밀도를 낮출 수 있다.\n",
        "    - 재현율(recall) = TP / (TP + FN)\n",
        "    - 정밀도(precision) = TP / (TP + FP)\n",
        "\n",
        "## 2.1 어간 추출(Stemming)\n",
        "\n",
        "- 어간 추출    \n",
        "  어형이 변형된 단어로부터 접사 등을 제거하고 그 단어의 어간을 분리해내는 작업을 말한다. \n",
        "  - 어형 : 단어의 형태\n",
        "  - 어간 : 어형변화에서 변화하지 않는 부분\n",
        "  - 어미 : 어형변화에서 바뀌는 부분\n",
        "  - 어형변화\n",
        "    - 통시적 어형변화 : 간다 -> 갔다 같은 시제가 반영된 어형변화\n",
        "    - 공시적 어형변화 : 작다 -> 작고 같은 시제가 반영되지 않은 어형변화\n",
        "\n",
        "- 영어의 어간추출 알고리즘으로는 포터 스테머(Porter Stemmer), 랭카스터 스테머(Lancaster Stemmer)가 존재한다. 아래는 포터 스테머를 활용한 어간추출 소스 코드이다.\n"
      ]
    },
    {
      "cell_type": "code",
      "execution_count": null,
      "metadata": {
        "id": "jO4YtAlxgAs3",
        "outputId": "2c91b73c-254d-4cb4-b9ad-25c268ea2317",
        "colab": {
          "base_uri": "https://localhost:8080/"
        }
      },
      "outputs": [
        {
          "output_type": "stream",
          "name": "stdout",
          "text": [
            "cook cookeri cookbook\n"
          ]
        }
      ],
      "source": [
        "from nltk.stem import PorterStemmer\n",
        "stemmer = PorterStemmer()\n",
        "print(stemmer.stem('cooking'), stemmer.stem('cookery'), stemmer.stem('cookbooks'))"
      ]
    },
    {
      "cell_type": "markdown",
      "source": [
        "- 다음은 포터 스테머를 활용하여 어간 추출한 결과를 나타낸다."
      ],
      "metadata": {
        "id": "WZ9kWKa-xErW"
      }
    },
    {
      "cell_type": "code",
      "execution_count": null,
      "metadata": {
        "id": "RRykSs0NgAs3",
        "outputId": "95a3267c-08aa-4c5c-f06f-ea7a1d2f97c0",
        "colab": {
          "base_uri": "https://localhost:8080/"
        }
      },
      "outputs": [
        {
          "output_type": "stream",
          "name": "stdout",
          "text": [
            "['Hello', 'everyone', '.', 'It', \"'s\", 'good', 'to', 'see', 'you', '.', 'Let', \"'s\", 'start', 'our', 'text', 'mining', 'class', '!']\n",
            "['hello', 'everyon', '.', 'it', \"'s\", 'good', 'to', 'see', 'you', '.', 'let', \"'s\", 'start', 'our', 'text', 'min', 'class', '!']\n"
          ]
        }
      ],
      "source": [
        "from nltk.tokenize import word_tokenize\n",
        "\n",
        "para = \"Hello everyone. It's good to see you. Let's start our text mining class!\"\n",
        "tokens = word_tokenize(para) #토큰화 실행\n",
        "print(tokens)\n",
        "result = [stemmer.stem(token) for token in tokens] #모든 토큰에 대해 스테밍 실행\n",
        "print(result)"
      ]
    },
    {
      "cell_type": "markdown",
      "source": [
        "- 다음은 랭카스터 스테머를 사용해 어간 추출한 결과는 다음과 같다."
      ],
      "metadata": {
        "id": "mksnmufXxKo8"
      }
    },
    {
      "cell_type": "code",
      "execution_count": null,
      "metadata": {
        "id": "h5Qg5JOcgAs4",
        "outputId": "9c78ef9a-e574-46b9-9110-51becdce818d",
        "colab": {
          "base_uri": "https://localhost:8080/"
        }
      },
      "outputs": [
        {
          "output_type": "stream",
          "name": "stdout",
          "text": [
            "cook cookery cookbook\n"
          ]
        }
      ],
      "source": [
        "from nltk.stem import LancasterStemmer\n",
        "stemmer = LancasterStemmer()\n",
        "print(stemmer.stem('cooking'), stemmer.stem('cookery'), stemmer.stem('cookbooks'))"
      ]
    },
    {
      "cell_type": "code",
      "source": [
        "from nltk.tokenize import word_tokenize\n",
        "\n",
        "para = \"Hello everyone. It's good to see you. Let's start our text mining class!\"\n",
        "tokens = word_tokenize(para) #토큰화 실행\n",
        "print(tokens)\n",
        "result = [stemmer.stem(token) for token in tokens] #모든 토큰에 대해 스테밍 실행\n",
        "print(result)"
      ],
      "metadata": {
        "id": "tbfJcNWuxJ7V",
        "outputId": "28d1b89c-1028-464e-c047-fd4e575b00d0",
        "colab": {
          "base_uri": "https://localhost:8080/"
        }
      },
      "execution_count": null,
      "outputs": [
        {
          "output_type": "stream",
          "name": "stdout",
          "text": [
            "['Hello', 'everyone', '.', 'It', \"'s\", 'good', 'to', 'see', 'you', '.', 'Let', \"'s\", 'start', 'our', 'text', 'mining', 'class', '!']\n",
            "['hello', 'everyon', '.', 'it', \"'s\", 'good', 'to', 'see', 'you', '.', 'let', \"'s\", 'start', 'our', 'text', 'min', 'class', '!']\n"
          ]
        }
      ]
    },
    {
      "cell_type": "markdown",
      "metadata": {
        "id": "EVDWWV91gAs5"
      },
      "source": [
        "## 2.2 표제어 추출(Lemmatization)"
      ]
    },
    {
      "cell_type": "markdown",
      "source": [
        "- 표제어    \n",
        "  사전에 나오는 말을 표제어라고 한다. 표제어 추출은 의미적 관점에서 단어의 기본형을 찾는 작업을 말한다.\n",
        "  - 어간이 표제어일 필요는 없다. "
      ],
      "metadata": {
        "id": "TbWiCdaFxfH-"
      }
    },
    {
      "cell_type": "code",
      "execution_count": null,
      "metadata": {
        "id": "kDKCfo0qgAs5",
        "outputId": "66495df9-6756-4766-a0a6-460b934430c5",
        "colab": {
          "base_uri": "https://localhost:8080/"
        }
      },
      "outputs": [
        {
          "output_type": "stream",
          "name": "stdout",
          "text": [
            "cooking\n",
            "cook\n",
            "cooking\n",
            "cookery\n",
            "cookbook\n"
          ]
        }
      ],
      "source": [
        "from nltk.stem import WordNetLemmatizer\n",
        "lemmatizer = WordNetLemmatizer()\n",
        "print(lemmatizer.lemmatize('cooking'))\n",
        "print(lemmatizer.lemmatize('cooking', pos='v')) #품사를 지정\n",
        "print(lemmatizer.lemmatize('cooking', pos='n')) #품사를 지정\n",
        "print(lemmatizer.lemmatize('cookery'))\n",
        "print(lemmatizer.lemmatize('cookbooks'))"
      ]
    },
    {
      "cell_type": "markdown",
      "source": [
        "- 어간과 표제어 간의 차이는 다음과 같다."
      ],
      "metadata": {
        "id": "3jStfRcfyAHa"
      }
    },
    {
      "cell_type": "code",
      "execution_count": null,
      "metadata": {
        "scrolled": true,
        "id": "ZXnpPum-gAs7",
        "outputId": "065aa567-b71c-48dc-ce0d-b93b5a97299b",
        "colab": {
          "base_uri": "https://localhost:8080/"
        }
      },
      "outputs": [
        {
          "output_type": "stream",
          "name": "stdout",
          "text": [
            "stemming result: believ\n",
            "lemmatizing result: belief\n",
            "lemmatizing result: believe\n"
          ]
        }
      ],
      "source": [
        "#comparison of lemmatizing and stemming\n",
        "from nltk.stem import PorterStemmer\n",
        "stemmer = PorterStemmer()\n",
        "print('stemming result:', stemmer.stem('believes'))\n",
        "print('lemmatizing result:', lemmatizer.lemmatize('believes'))\n",
        "print('lemmatizing result:', lemmatizer.lemmatize('believes', pos='v'))"
      ]
    },
    {
      "cell_type": "markdown",
      "metadata": {
        "id": "poBA-HAggAs7"
      },
      "source": [
        "# 3. 품사 태깅(Part-of-Speech Tagging)"
      ]
    },
    {
      "cell_type": "markdown",
      "metadata": {
        "id": "F5DsgsxCgAs8"
      },
      "source": [
        "## 3.1 품사의 이해\n",
        "\n",
        "- 품사는 명사, 대명사, 수사, 조사, 동사, 형용사, 관형사, 부사, 감탄사와 같이 공통된 성질을 지닌 낱말끼리 모아 놓은 낱말의 갈래를 말한다.\n",
        "- 낱말은 뜻을 가지고 홀로 쓰일 수 있는 말의 가장 작은 단위"
      ]
    },
    {
      "cell_type": "markdown",
      "metadata": {
        "id": "yIKXfeoWgAtQ"
      },
      "source": [
        "## 3.2 NLTK를 이용한 품사 태깅"
      ]
    },
    {
      "cell_type": "markdown",
      "source": [
        "`nltk.pos_tag()`는 토큰화된 결과에 대해 품사를 태깅해 (단어, 품사) 로 구성된 튜플의 리스트로 품사 태깅 결과를 반환해준다."
      ],
      "metadata": {
        "id": "TsOd2WGAyzx9"
      }
    },
    {
      "cell_type": "code",
      "execution_count": null,
      "metadata": {
        "id": "6hAkOTr_gAtR",
        "outputId": "b675999c-e933-406e-b420-5fb3d0c66d88",
        "colab": {
          "base_uri": "https://localhost:8080/"
        }
      },
      "outputs": [
        {
          "output_type": "stream",
          "name": "stdout",
          "text": [
            "[('Hello', 'NNP'), ('everyone', 'NN'), ('.', '.'), ('It', 'PRP'), (\"'s\", 'VBZ'), ('good', 'JJ'), ('to', 'TO'), ('see', 'VB'), ('you', 'PRP'), ('.', '.'), ('Let', 'VB'), (\"'s\", 'POS'), ('start', 'VB'), ('our', 'PRP$'), ('text', 'NN'), ('mining', 'NN'), ('class', 'NN'), ('!', '.')]\n"
          ]
        }
      ],
      "source": [
        "import nltk\n",
        "from nltk.tokenize import word_tokenize\n",
        "\n",
        "tokens = word_tokenize(\"Hello everyone. It's good to see you. Let's start our text mining class!\")\n",
        "print(nltk.pos_tag(tokens))"
      ]
    },
    {
      "cell_type": "markdown",
      "source": [
        "- 품사의 약어를 잘 모를 경우에는 아래와 같이 품사 약어의 의미와 그 설명을 알 수 있다."
      ],
      "metadata": {
        "id": "biKpfu_ozEem"
      }
    },
    {
      "cell_type": "code",
      "execution_count": null,
      "metadata": {
        "id": "vHnVlh9AgAtR",
        "outputId": "a1e93254-2c92-4669-f227-874c5c3eace9",
        "colab": {
          "base_uri": "https://localhost:8080/"
        }
      },
      "outputs": [
        {
          "output_type": "stream",
          "name": "stdout",
          "text": [
            "CC: conjunction, coordinating\n",
            "    & 'n and both but either et for less minus neither nor or plus so\n",
            "    therefore times v. versus vs. whether yet\n"
          ]
        },
        {
          "output_type": "stream",
          "name": "stderr",
          "text": [
            "[nltk_data] Downloading package tagsets to /root/nltk_data...\n",
            "[nltk_data]   Package tagsets is already up-to-date!\n"
          ]
        }
      ],
      "source": [
        "nltk.download('tagsets')\n",
        "nltk.help.upenn_tagset('CC')"
      ]
    },
    {
      "cell_type": "markdown",
      "source": [
        "- 아래와 같이 원하는 품사의 단어들만 추출할 수도 있다."
      ],
      "metadata": {
        "id": "7DrcN4V7zK1y"
      }
    },
    {
      "cell_type": "code",
      "execution_count": null,
      "metadata": {
        "id": "P982pXJbgAtS",
        "outputId": "e6ef3c82-dc6f-45ee-c203-a6ff83a8e9bb",
        "colab": {
          "base_uri": "https://localhost:8080/"
        }
      },
      "outputs": [
        {
          "output_type": "stream",
          "name": "stdout",
          "text": [
            "['everyone', 'good', 'see', 'Let', 'start', 'text', 'mining', 'class']\n"
          ]
        }
      ],
      "source": [
        "my_tag_set = ['NN', 'VB', 'JJ']\n",
        "my_words = [word for word, tag in nltk.pos_tag(tokens) if tag in my_tag_set]\n",
        "print(my_words)"
      ]
    },
    {
      "cell_type": "markdown",
      "source": [
        "- 아래와 같이 단어에 품사 정보를 추가해 구분해볼 수도 있다."
      ],
      "metadata": {
        "id": "bQpWcyYNzP87"
      }
    },
    {
      "cell_type": "code",
      "execution_count": null,
      "metadata": {
        "id": "qZ7GRkZ3gAtT",
        "outputId": "6ecb8804-eca5-4beb-d34d-c00724fa5bd5",
        "colab": {
          "base_uri": "https://localhost:8080/"
        }
      },
      "outputs": [
        {
          "output_type": "stream",
          "name": "stdout",
          "text": [
            "['Hello/NNP', 'everyone/NN', './.', 'It/PRP', \"'s/VBZ\", 'good/JJ', 'to/TO', 'see/VB', 'you/PRP', './.', 'Let/VB', \"'s/POS\", 'start/VB', 'our/PRP$', 'text/NN', 'mining/NN', 'class/NN', '!/.']\n"
          ]
        }
      ],
      "source": [
        "words_with_tag = ['/'.join(item) for item in nltk.pos_tag(tokens)]\n",
        "print(words_with_tag)"
      ]
    },
    {
      "cell_type": "markdown",
      "metadata": {
        "id": "1tqynKPWgAtT"
      },
      "source": [
        "## 3.3 한글 형태소 분석과 품사 태깅"
      ]
    },
    {
      "cell_type": "markdown",
      "source": [
        "#### 한글 형태소 분석과 품사 태깅\n",
        "\n",
        "- NLTK로는 한글 토큰화나 품사 태깅이 잘 되지 않는다. \n",
        "- 가령 `절망의`는 `절망` + `의` 가 결합되어 있어 한글 토큰화에 실패하였다.\n",
        "- `절망의` 에 `JJ` 가 표기되었는데 이는 형용사로써, 물론 옳지 못하다(명사 + 조사 가 맞다)"
      ],
      "metadata": {
        "id": "FKHcieY_zlE7"
      }
    },
    {
      "cell_type": "code",
      "execution_count": null,
      "metadata": {
        "id": "Kq8fpVMxgAtU"
      },
      "outputs": [],
      "source": [
        "sentence = '''절망의 반대가 희망은 아니다.\n",
        "어두운 밤하늘에 별이 빛나듯\n",
        "희망은 절망 속에 싹트는 거지\n",
        "만약에 우리가 희망함이 적다면\n",
        "그 누가 세상을 비출어줄까.\n",
        "정희성, 희망 공부'''"
      ]
    },
    {
      "cell_type": "code",
      "execution_count": null,
      "metadata": {
        "id": "espG1FBAgAtV",
        "outputId": "97ef4a69-ce7e-4132-b561-a85457beba8d",
        "colab": {
          "base_uri": "https://localhost:8080/"
        }
      },
      "outputs": [
        {
          "output_type": "stream",
          "name": "stdout",
          "text": [
            "['절망의', '반대가', '희망은', '아니다', '.', '어두운', '밤하늘에', '별이', '빛나듯', '희망은', '절망', '속에', '싹트는', '거지', '만약에', '우리가', '희망함이', '적다면', '그', '누가', '세상을', '비출어줄까', '.', '정희성', ',', '희망', '공부']\n",
            "[('절망의', 'JJ'), ('반대가', 'NNP'), ('희망은', 'NNP'), ('아니다', 'NNP'), ('.', '.'), ('어두운', 'VB'), ('밤하늘에', 'JJ'), ('별이', 'NNP'), ('빛나듯', 'NNP'), ('희망은', 'NNP'), ('절망', 'NNP'), ('속에', 'NNP'), ('싹트는', 'NNP'), ('거지', 'NNP'), ('만약에', 'NNP'), ('우리가', 'NNP'), ('희망함이', 'NNP'), ('적다면', 'NNP'), ('그', 'NNP'), ('누가', 'NNP'), ('세상을', 'NNP'), ('비출어줄까', 'NNP'), ('.', '.'), ('정희성', 'NN'), (',', ','), ('희망', 'NNP'), ('공부', 'NNP')]\n"
          ]
        }
      ],
      "source": [
        "tokens = word_tokenize(sentence)\n",
        "print(tokens)\n",
        "print(nltk.pos_tag(tokens))"
      ]
    },
    {
      "cell_type": "code",
      "source": [
        "nltk.help.upenn_tagset('JJ')"
      ],
      "metadata": {
        "id": "Srke91j00Dg1",
        "outputId": "7c8fdc31-81c2-4bbe-ab40-1fbec17ad14b",
        "colab": {
          "base_uri": "https://localhost:8080/"
        }
      },
      "execution_count": null,
      "outputs": [
        {
          "output_type": "stream",
          "name": "stdout",
          "text": [
            "JJ: adjective or numeral, ordinal\n",
            "    third ill-mannered pre-war regrettable oiled calamitous first separable\n",
            "    ectoplasmic battery-powered participatory fourth still-to-be-named\n",
            "    multilingual multi-disciplinary ...\n"
          ]
        }
      ]
    },
    {
      "cell_type": "markdown",
      "metadata": {
        "id": "lKfDeun1gAtW"
      },
      "source": [
        "### KoNLPy 설치\n",
        "\n",
        "https://konlpy.org/ko/latest/install/"
      ]
    },
    {
      "cell_type": "markdown",
      "source": [
        "- 코랩에는 konlpy 가 설치되어 있지 않으므로 설치를 해줘야 햔다."
      ],
      "metadata": {
        "id": "uiWBBoB80cRq"
      }
    },
    {
      "cell_type": "code",
      "source": [
        "!pip install konlpy"
      ],
      "metadata": {
        "id": "mVYNKKC90Sgr",
        "outputId": "53953686-1f53-460e-f780-3bb558302806",
        "colab": {
          "base_uri": "https://localhost:8080/"
        }
      },
      "execution_count": null,
      "outputs": [
        {
          "output_type": "stream",
          "name": "stdout",
          "text": [
            "Looking in indexes: https://pypi.org/simple, https://us-python.pkg.dev/colab-wheels/public/simple/\n",
            "Requirement already satisfied: konlpy in /usr/local/lib/python3.7/dist-packages (0.6.0)\n",
            "Requirement already satisfied: numpy>=1.6 in /usr/local/lib/python3.7/dist-packages (from konlpy) (1.21.6)\n",
            "Requirement already satisfied: lxml>=4.1.0 in /usr/local/lib/python3.7/dist-packages (from konlpy) (4.9.1)\n",
            "Requirement already satisfied: JPype1>=0.7.0 in /usr/local/lib/python3.7/dist-packages (from konlpy) (1.4.0)\n",
            "Requirement already satisfied: typing-extensions in /usr/local/lib/python3.7/dist-packages (from JPype1>=0.7.0->konlpy) (4.1.1)\n"
          ]
        }
      ]
    },
    {
      "cell_type": "code",
      "execution_count": null,
      "metadata": {
        "id": "sB0ymF8dgAtW"
      },
      "outputs": [],
      "source": [
        "from konlpy.tag import Okt\n",
        "t = Okt()"
      ]
    },
    {
      "cell_type": "code",
      "execution_count": null,
      "metadata": {
        "scrolled": true,
        "id": "Gx5eeQ8OgAtX",
        "outputId": "5503affb-f8d7-4b04-ad3e-e4b5aea16c1e",
        "colab": {
          "base_uri": "https://localhost:8080/"
        }
      },
      "outputs": [
        {
          "output_type": "stream",
          "name": "stdout",
          "text": [
            "형태소: ['절망', '의', '반대', '가', '희망', '은', '아니다', '.', '\\n', '어', '두운', '밤하늘', '에', '별', '이', '빛나듯', '\\n', '희망', '은', '절망', '속', '에', '싹트는', '거지', '\\n', '만약', '에', '우리', '가', '희망', '함', '이', '적다면', '\\n', '그', '누가', '세상', '을', '비출어줄까', '.', '\\n', '정희성', ',', '희망', '공부']\n",
            "\n",
            "명사: ['절망', '반대', '희망', '어', '두운', '밤하늘', '별', '희망', '절망', '속', '거지', '만약', '우리', '희망', '함', '그', '누가', '세상', '정희성', '희망', '공부']\n",
            "\n",
            "품사 태깅 결과: [('절망', 'Noun'), ('의', 'Josa'), ('반대', 'Noun'), ('가', 'Josa'), ('희망', 'Noun'), ('은', 'Josa'), ('아니다', 'Adjective'), ('.', 'Punctuation'), ('\\n', 'Foreign'), ('어', 'Noun'), ('두운', 'Noun'), ('밤하늘', 'Noun'), ('에', 'Josa'), ('별', 'Noun'), ('이', 'Josa'), ('빛나듯', 'Verb'), ('\\n', 'Foreign'), ('희망', 'Noun'), ('은', 'Josa'), ('절망', 'Noun'), ('속', 'Noun'), ('에', 'Josa'), ('싹트는', 'Verb'), ('거지', 'Noun'), ('\\n', 'Foreign'), ('만약', 'Noun'), ('에', 'Josa'), ('우리', 'Noun'), ('가', 'Josa'), ('희망', 'Noun'), ('함', 'Noun'), ('이', 'Josa'), ('적다면', 'Verb'), ('\\n', 'Foreign'), ('그', 'Noun'), ('누가', 'Noun'), ('세상', 'Noun'), ('을', 'Josa'), ('비출어줄까', 'Verb'), ('.', 'Punctuation'), ('\\n', 'Foreign'), ('정희성', 'Noun'), (',', 'Punctuation'), ('희망', 'Noun'), ('공부', 'Noun')]\n"
          ]
        }
      ],
      "source": [
        "print('형태소:', t.morphs(sentence))\n",
        "print()\n",
        "print('명사:', t.nouns(sentence))\n",
        "print()\n",
        "print('품사 태깅 결과:', t.pos(sentence))"
      ]
    },
    {
      "cell_type": "code",
      "execution_count": null,
      "metadata": {
        "id": "DOtA1GAlgAtY"
      },
      "outputs": [],
      "source": []
    }
  ],
  "metadata": {
    "kernelspec": {
      "display_name": "Python 3 (ipykernel)",
      "language": "python",
      "name": "python3"
    },
    "language_info": {
      "codemirror_mode": {
        "name": "ipython",
        "version": 3
      },
      "file_extension": ".py",
      "mimetype": "text/x-python",
      "name": "python",
      "nbconvert_exporter": "python",
      "pygments_lexer": "ipython3",
      "version": "3.8.0"
    },
    "toc": {
      "base_numbering": 1,
      "nav_menu": {},
      "number_sections": true,
      "sideBar": true,
      "skip_h1_title": false,
      "title_cell": "Table of Contents",
      "title_sidebar": "Contents",
      "toc_cell": true,
      "toc_position": {},
      "toc_section_display": true,
      "toc_window_display": true
    },
    "varInspector": {
      "cols": {
        "lenName": 16,
        "lenType": 16,
        "lenVar": 40
      },
      "kernels_config": {
        "python": {
          "delete_cmd_postfix": "",
          "delete_cmd_prefix": "del ",
          "library": "var_list.py",
          "varRefreshCmd": "print(var_dic_list())"
        },
        "r": {
          "delete_cmd_postfix": ") ",
          "delete_cmd_prefix": "rm(",
          "library": "var_list.r",
          "varRefreshCmd": "cat(var_dic_list()) "
        }
      },
      "types_to_exclude": [
        "module",
        "function",
        "builtin_function_or_method",
        "instance",
        "_Feature"
      ],
      "window_display": false
    },
    "colab": {
      "provenance": [],
      "include_colab_link": true
    }
  },
  "nbformat": 4,
  "nbformat_minor": 0
}